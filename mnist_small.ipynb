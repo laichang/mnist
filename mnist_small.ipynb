{
 "cells": [
  {
   "cell_type": "markdown",
   "metadata": {},
   "source": [
    "## 对手写数字数据集(缩小版)进行分类预测"
   ]
  },
  {
   "cell_type": "markdown",
   "metadata": {},
   "source": [
    "**这一篇主要是针对小型的mnist数据集进行分类预测，总共有1797个样本，每个样本有64个特征(8 x 8的灰度图像)。**"
   ]
  },
  {
   "cell_type": "code",
   "execution_count": 1,
   "metadata": {},
   "outputs": [],
   "source": [
    "from sklearn.datasets import load_digits\n",
    "from sklearn.neighbors import KNeighborsClassifier\n",
    "from sklearn.svm import SVC\n",
    "from sklearn.tree import DecisionTreeClassifier\n",
    "from sklearn.naive_bayes import MultinomialNB\n",
    "from sklearn.ensemble import VotingClassifier\n",
    "from sklearn.model_selection import train_test_split, GridSearchCV, ShuffleSplit\n",
    "from sklearn.metrics import accuracy_score\n",
    "from sklearn.preprocessing import MinMaxScaler\n",
    "import matplotlib.pyplot as plt\n",
    "%matplotlib inline\n",
    "import seaborn as sns\n",
    "import pandas as pd\n",
    "import numpy as np"
   ]
  },
  {
   "cell_type": "markdown",
   "metadata": {},
   "source": [
    "### 一、导入数据"
   ]
  },
  {
   "cell_type": "code",
   "execution_count": 2,
   "metadata": {},
   "outputs": [
    {
     "name": "stdout",
     "output_type": "stream",
     "text": [
      "(1797, 64) (1797,)\n"
     ]
    }
   ],
   "source": [
    "digits = load_digits()\n",
    "X = digits.data\n",
    "y = digits.target\n",
    "print(X.shape, y.shape)"
   ]
  },
  {
   "cell_type": "code",
   "execution_count": 3,
   "metadata": {},
   "outputs": [
    {
     "data": {
      "text/plain": [
       "<matplotlib.axes._subplots.AxesSubplot at 0x22e0b561448>"
      ]
     },
     "execution_count": 3,
     "metadata": {},
     "output_type": "execute_result"
    },
    {
     "data": {
      "image/png": "[encoded data removed]",
      "text/plain": [
       "<Figure size 432x288 with 1 Axes>"
      ]
     },
     "metadata": {
      "needs_background": "light"
     },
     "output_type": "display_data"
    }
   ],
   "source": [
    "sns.countplot(y)"
   ]
  },
  {
   "cell_type": "markdown",
   "metadata": {},
   "source": [
    "**上图展示了数字0到9的分布，互相之间差别不大**"
   ]
  },
  {
   "cell_type": "markdown",
   "metadata": {},
   "source": [
    "**划分训练集、测试集，1/3的数据用于测试**"
   ]
  },
  {
   "cell_type": "code",
   "execution_count": 4,
   "metadata": {},
   "outputs": [],
   "source": [
    "X_train, X_test, y_train, y_test = train_test_split(X, y, test_size=0.33, random_state=42)"
   ]
  },
  {
   "cell_type": "markdown",
   "metadata": {},
   "source": [
    "### 二、模型训练"
   ]
  },
  {
   "cell_type": "markdown",
   "metadata": {},
   "source": [
    "**首先对数据集进行规范化，加快模型收敛**"
   ]
  },
  {
   "cell_type": "code",
   "execution_count": 5,
   "metadata": {},
   "outputs": [],
   "source": [
    "scaler = MinMaxScaler()\n",
    "X_train = scaler.fit_transform(X_train)\n",
    "X_test = scaler.fit_transform(X_test)"
   ]
  },
  {
   "cell_type": "markdown",
   "metadata": {},
   "source": [
    "**从训练集中划分验证集，采用5折交叉验证**"
   ]
  },
  {
   "cell_type": "code",
   "execution_count": 6,
   "metadata": {},
   "outputs": [],
   "source": [
    "cv_splits = ShuffleSplit(n_splits=10, test_size=.2, random_state=42)"
   ]
  },
  {
   "cell_type": "markdown",
   "metadata": {},
   "source": [
    "**为每个分类器调参，找出最好的分类器**"
   ]
  },
  {
   "cell_type": "code",
   "execution_count": 7,
   "metadata": {},
   "outputs": [],
   "source": [
    "clf_names = [\n",
    "    \"KNN\",\n",
    "    \"SVM\",\n",
    "    \"DecisionTree\",\n",
    "    \"NaiveBayes\"\n",
    "]  # 用于比较的分类器名称集合\n",
    "clf_list = [\n",
    "    KNeighborsClassifier(),\n",
    "    SVC(probability=True),\n",
    "    DecisionTreeClassifier(),\n",
    "    MultinomialNB()\n",
    "]  # 用于比较的分类器\n",
    "clf_param_grids = [\n",
    "    {\"n_neighbors\": [3, 5, 7, 9], \"weights\": [\"uniform\", \"distance\"],\n",
    "    \"algorithm\": [\"ball_tree\", \"kd_tree\"]},  # KNN的调参列表\n",
    "    {\"C\": [0.001, 0.003, 0.01, 0.03, 0.1, 0.3, 1, 3, 10, 30],\n",
    "    \"kernel\": [\"linear\", \"poly\", \"rbf\"], \"degree\": [2, 3, 4], \n",
    "     \"gamma\": [\"scale\", \"auto\"]},  # SVM的调参列表\n",
    "    {\"criterion\": [\"gini\", \"entropy\"], \"splitter\": [\"best\", \"random\"],\n",
    "    \"max_depth\": [3, 5, 7, 9], \"max_features\": [\"sqrt\", \"log2\"]},  # DecisionTree的调参列表\n",
    "    {\"alpha\": [0, 0.001, 0.003, 0.01, 0.03, 0.1, 0.3, 1, 3]}  # NaiveBayes的调参列表\n",
    "]"
   ]
  },
  {
   "cell_type": "code",
   "execution_count": 8,
   "metadata": {},
   "outputs": [],
   "source": [
    "clf_compare = pd.DataFrame(columns=[\"Name\", \"Mean train score\", \n",
    "                                    \"Mean test score\", \n",
    "                                    \"3 * Std test score\",\n",
    "                                    \"Best params\",\n",
    "                                    \"Mean fit time\"])\n",
    "row_index = 0\n",
    "for clf_name, clf, clf_param_grid in zip(clf_names, clf_list, clf_param_grids):\n",
    "    clf_compare.loc[row_index, \"Name\"] = clf_name\n",
    "    gridsearch_cv = GridSearchCV(clf, clf_param_grid, n_jobs=-1, cv=cv_splits,\n",
    "                                return_train_score=True)\n",
    "    gridsearch_cv.fit(X_train, y_train)\n",
    "    cv_results = gridsearch_cv.cv_results_\n",
    "    clf_compare.loc[row_index, \"Mean train score\"] = np.mean(cv_results[\"mean_train_score\"])\n",
    "    clf_compare.loc[row_index, \"Mean test score\"] = np.mean(cv_results[\"mean_test_score\"])\n",
    "    clf_compare.loc[row_index, \"3 * Std test score\"] = 3*np.std(cv_results[\"mean_test_score\"])\n",
    "    clf_compare.loc[row_index, \"Best params\"] = str(gridsearch_cv.best_params_)\n",
    "    clf_compare.loc[row_index, \"Mean fit time\"] = np.mean(cv_results[\"mean_fit_time\"])\n",
    "    row_index += 1"
   ]
  },
  {
   "cell_type": "code",
   "execution_count": 9,
   "metadata": {},
   "outputs": [
    {
     "data": {
      "text/html": [
       "<div>\n",
       "<style scoped>\n",
       "    .dataframe tbody tr th:only-of-type {\n",
       "        vertical-align: middle;\n",
       "    }\n",
       "\n",
       "    .dataframe tbody tr th {\n",
       "        vertical-align: top;\n",
       "    }\n",
       "\n",
       "    .dataframe thead th {\n",
       "        text-align: right;\n",
       "    }\n",
       "</style>\n",
       "<table border=\"1\" class=\"dataframe\">\n",
       "  <thead>\n",
       "    <tr style=\"text-align: right;\">\n",
       "      <th></th>\n",
       "      <th>Name</th>\n",
       "      <th>Mean train score</th>\n",
       "      <th>Mean test score</th>\n",
       "      <th>3 * Std test score</th>\n",
       "      <th>Best params</th>\n",
       "      <th>Mean fit time</th>\n",
       "    </tr>\n",
       "  </thead>\n",
       "  <tbody>\n",
       "    <tr>\n",
       "      <td>0</td>\n",
       "      <td>KNN</td>\n",
       "      <td>0.992555</td>\n",
       "      <td>0.978631</td>\n",
       "      <td>0.00952099</td>\n",
       "      <td>{'algorithm': 'ball_tree', 'n_neighbors': 3, '...</td>\n",
       "      <td>0.00770258</td>\n",
       "    </tr>\n",
       "    <tr>\n",
       "      <td>1</td>\n",
       "      <td>SVM</td>\n",
       "      <td>0.703986</td>\n",
       "      <td>0.686238</td>\n",
       "      <td>1.15141</td>\n",
       "      <td>{'C': 10, 'degree': 2, 'gamma': 'scale', 'kern...</td>\n",
       "      <td>0.662077</td>\n",
       "    </tr>\n",
       "    <tr>\n",
       "      <td>2</td>\n",
       "      <td>DecisionTree</td>\n",
       "      <td>0.704304</td>\n",
       "      <td>0.61499</td>\n",
       "      <td>0.39048</td>\n",
       "      <td>{'criterion': 'entropy', 'max_depth': 9, 'max_...</td>\n",
       "      <td>0.00305079</td>\n",
       "    </tr>\n",
       "    <tr>\n",
       "      <td>3</td>\n",
       "      <td>NaiveBayes</td>\n",
       "      <td>0.91207</td>\n",
       "      <td>0.902397</td>\n",
       "      <td>0.00625931</td>\n",
       "      <td>{'alpha': 3}</td>\n",
       "      <td>0.00533021</td>\n",
       "    </tr>\n",
       "  </tbody>\n",
       "</table>\n",
       "</div>"
      ],
      "text/plain": [
       "           Name Mean train score Mean test score 3 * Std test score  \\\n",
       "0           KNN         0.992555        0.978631         0.00952099   \n",
       "1           SVM         0.703986        0.686238            1.15141   \n",
       "2  DecisionTree         0.704304         0.61499            0.39048   \n",
       "3    NaiveBayes          0.91207        0.902397         0.00625931   \n",
       "\n",
       "                                         Best params Mean fit time  \n",
       "0  {'algorithm': 'ball_tree', 'n_neighbors': 3, '...    0.00770258  \n",
       "1  {'C': 10, 'degree': 2, 'gamma': 'scale', 'kern...      0.662077  \n",
       "2  {'criterion': 'entropy', 'max_depth': 9, 'max_...    0.00305079  \n",
       "3                                       {'alpha': 3}    0.00533021  "
      ]
     },
     "execution_count": 9,
     "metadata": {},
     "output_type": "execute_result"
    }
   ],
   "source": [
    "clf_compare"
   ]
  },
  {
   "cell_type": "markdown",
   "metadata": {},
   "source": [
    "**上表看出，表现最好的是KNN算法**"
   ]
  },
  {
   "cell_type": "markdown",
   "metadata": {},
   "source": [
    "### 三、测试模型"
   ]
  },
  {
   "cell_type": "code",
   "execution_count": 10,
   "metadata": {},
   "outputs": [
    {
     "data": {
      "text/plain": [
       "\"{'algorithm': 'ball_tree', 'n_neighbors': 3, 'weights': 'distance'}\""
      ]
     },
     "execution_count": 10,
     "metadata": {},
     "output_type": "execute_result"
    }
   ],
   "source": [
    "clf_compare.loc[0, \"Best params\"]"
   ]
  },
  {
   "cell_type": "code",
   "execution_count": 11,
   "metadata": {},
   "outputs": [
    {
     "name": "stdout",
     "output_type": "stream",
     "text": [
      "预测准确率为0.9899\n"
     ]
    }
   ],
   "source": [
    "knn_clf = KNeighborsClassifier(algorithm=\"ball_tree\", n_neighbors=3, weights=\"distance\")\n",
    "knn_clf.fit(X_train, y_train)\n",
    "y_pred = knn_clf.predict(X_test)\n",
    "print(\"预测准确率为%.4f\" % accuracy_score(y_test, y_pred))"
   ]
  },
  {
   "cell_type": "markdown",
   "metadata": {},
   "source": [
    "**KNN的预测准确率高达98.99%，表现还是很不错的。**"
   ]
  },
  {
   "cell_type": "markdown",
   "metadata": {},
   "source": [
    "### 四、利用CNN来进行预测"
   ]
  },
  {
   "cell_type": "code",
   "execution_count": 12,
   "metadata": {},
   "outputs": [
    {
     "name": "stderr",
     "output_type": "stream",
     "text": [
      "Using TensorFlow backend.\n"
     ]
    }
   ],
   "source": [
    "from keras.layers import Dense, Activation, Conv2D, MaxPool2D, Flatten\n",
    "from keras.models import Sequential\n",
    "from keras.utils import np_utils"
   ]
  },
  {
   "cell_type": "code",
   "execution_count": 13,
   "metadata": {},
   "outputs": [],
   "source": [
    "digits = load_digits()\n",
    "X = digits.data\n",
    "y = digits.target\n",
    "X_train, X_test, y_train, y_test = train_test_split(X, y, test_size=0.33, random_state=42)"
   ]
  },
  {
   "cell_type": "markdown",
   "metadata": {},
   "source": [
    "**对数据进行reshape以符合CNN的输入条件**"
   ]
  },
  {
   "cell_type": "code",
   "execution_count": 14,
   "metadata": {},
   "outputs": [],
   "source": [
    "X_train = X_train.reshape(-1, 8, 8, 1) / 255  # 标准化\n",
    "X_test = X_test.reshape(-1, 8, 8, 1) / 255\n",
    "y_train = np_utils.to_categorical(y_train)\n",
    "y_test = np_utils.to_categorical(y_test)"
   ]
  },
  {
   "cell_type": "markdown",
   "metadata": {},
   "source": [
    "**构建并训练CNN**"
   ]
  },
  {
   "cell_type": "code",
   "execution_count": 15,
   "metadata": {},
   "outputs": [
    {
     "name": "stdout",
     "output_type": "stream",
     "text": [
      "Epoch 1/20\n",
      "1203/1203 [==============================] - 2s 1ms/step - loss: 2.2648 - accuracy: 0.2868: 0s - loss: 2.2846 - accuracy\n",
      "Epoch 2/20\n",
      "1203/1203 [==============================] - 1s 577us/step - loss: 1.5737 - accuracy: 0.5337\n",
      "Epoch 3/20\n",
      "1203/1203 [==============================] - 1s 587us/step - loss: 0.7376 - accuracy: 0.7747\n",
      "Epoch 4/20\n",
      "1203/1203 [==============================] - 1s 668us/step - loss: 0.5013 - accuracy: 0.8487\n",
      "Epoch 5/20\n",
      "1203/1203 [==============================] - 1s 684us/step - loss: 0.3616 - accuracy: 0.89030s - loss: 0.4\n",
      "Epoch 6/20\n",
      "1203/1203 [==============================] - 1s 605us/step - loss: 0.2794 - accuracy: 0.91600s - loss: 0.2871 - accuracy: 0.\n",
      "Epoch 7/20\n",
      "1203/1203 [==============================] - 1s 599us/step - loss: 0.2401 - accuracy: 0.93430s - loss: 0.2880 - \n",
      "Epoch 8/20\n",
      "1203/1203 [==============================] - 1s 704us/step - loss: 0.2069 - accuracy: 0.9360\n",
      "Epoch 9/20\n",
      "1203/1203 [==============================] - 1s 532us/step - loss: 0.1712 - accuracy: 0.9534\n",
      "Epoch 10/20\n",
      "1203/1203 [==============================] - 1s 530us/step - loss: 0.1659 - accuracy: 0.94760s - loss: 0.155\n",
      "Epoch 11/20\n",
      "1203/1203 [==============================] - 1s 533us/step - loss: 0.1286 - accuracy: 0.9576\n",
      "Epoch 12/20\n",
      "1203/1203 [==============================] - 1s 558us/step - loss: 0.1260 - accuracy: 0.96340s - loss: 0.1091 - accura\n",
      "Epoch 13/20\n",
      "1203/1203 [==============================] - 1s 574us/step - loss: 0.1231 - accuracy: 0.9618\n",
      "Epoch 14/20\n",
      "1203/1203 [==============================] - 1s 556us/step - loss: 0.0982 - accuracy: 0.9726\n",
      "Epoch 15/20\n",
      "1203/1203 [==============================] - 1s 626us/step - loss: 0.0949 - accuracy: 0.9717\n",
      "Epoch 16/20\n",
      "1203/1203 [==============================] - 1s 729us/step - loss: 0.0730 - accuracy: 0.9817\n",
      "Epoch 17/20\n",
      "1203/1203 [==============================] - 1s 555us/step - loss: 0.0685 - accuracy: 0.9834\n",
      "Epoch 18/20\n",
      "1203/1203 [==============================] - 1s 549us/step - loss: 0.0577 - accuracy: 0.9842\n",
      "Epoch 19/20\n",
      "1203/1203 [==============================] - 1s 562us/step - loss: 0.0571 - accuracy: 0.98420s - loss: 0.0482 \n",
      "Epoch 20/20\n",
      "1203/1203 [==============================] - 1s 653us/step - loss: 0.0534 - accuracy: 0.98840s - loss: 0.0460 - accuracy: \n"
     ]
    },
    {
     "data": {
      "text/plain": [
       "<keras.callbacks.callbacks.History at 0x22e115a9148>"
      ]
     },
     "execution_count": 15,
     "metadata": {},
     "output_type": "execute_result"
    }
   ],
   "source": [
    "model = Sequential()\n",
    "model.add(Conv2D(filters=32, kernel_size=(5, 5), padding=\"same\", input_shape=(8, 8, 1)))  # 第一层一定要添加输入shape,输出8*8*32\n",
    "model.add(Activation(\"relu\"))  # 激活\n",
    "model.add(MaxPool2D(pool_size=(2,2)))  # 池化层，输出4*4*32\n",
    "model.add(Conv2D(filters=64, kernel_size=(5, 5), padding=\"same\"))  # 输出4*4*64\n",
    "model.add(Activation(\"relu\"))  # 激活\n",
    "model.add(MaxPool2D(pool_size=(2, 2)))  # 池化层，输出2*2*64\n",
    "model.add(Flatten())  # 变成[n_samples, 2*2*64]\n",
    "model.add(Dense(1024))  # 全连接层，输出到1024个神经元\n",
    "model.add(Activation(\"relu\"))  # 激活\n",
    "model.add(Dense(10))  # 输出到10个神经元\n",
    "model.add(Activation(\"softmax\"))  # softmax激活\n",
    "model.compile(optimizer=\"adam\", loss=\"categorical_crossentropy\", metrics=[\"accuracy\"])\n",
    "model.fit(X_train, y_train, batch_size=32, epochs=20)"
   ]
  },
  {
   "cell_type": "code",
   "execution_count": 16,
   "metadata": {},
   "outputs": [
    {
     "name": "stdout",
     "output_type": "stream",
     "text": [
      "594/594 [==============================] - 0s 449us/step\n"
     ]
    },
    {
     "data": {
      "text/plain": [
       "[0.12781845690425397, 0.9579124450683594]"
      ]
     },
     "execution_count": 16,
     "metadata": {},
     "output_type": "execute_result"
    }
   ],
   "source": [
    "model.evaluate(X_test, y_test)"
   ]
  },
  {
   "cell_type": "markdown",
   "metadata": {},
   "source": [
    "### 四、总结"
   ]
  },
  {
   "cell_type": "markdown",
   "metadata": {},
   "source": [
    "**这里我们使用了KNN，SVM，决策树，朴素贝叶斯算法对手写数字数据集进行了分类预测，最终使用KNN的预测准确率高达98.99%。此外，使用了CNN，但是面对数据量较小的情况下，CNN的预测准确率为95.79%，其表现不及KNN。**"
   ]
  },
  {
   "cell_type": "code",
   "execution_count": null,
   "metadata": {},
   "outputs": [],
   "source": []
  }
 ],
 "metadata": {
  "kernelspec": {
   "display_name": "Python 3",
   "language": "python",
   "name": "python3"
  },
  "language_info": {
   "codemirror_mode": {
    "name": "ipython",
    "version": 3
   },
   "file_extension": ".py",
   "mimetype": "text/x-python",
   "name": "python",
   "nbconvert_exporter": "python",
   "pygments_lexer": "ipython3",
   "version": "3.7.4"
  }
 },
 "nbformat": 4,
 "nbformat_minor": 2
}
